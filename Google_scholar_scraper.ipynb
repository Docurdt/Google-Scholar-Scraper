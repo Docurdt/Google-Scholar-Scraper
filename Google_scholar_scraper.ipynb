{
 "cells": [
  {
   "cell_type": "code",
   "execution_count": null,
   "metadata": {},
   "outputs": [],
   "source": [
    "# Script to get bibtex entris from searching results of Google Scholer\n",
    "# This script may trigger the Google's robot detection in some circumstances.\n",
    "\n",
    "# import sys\n",
    "# !{sys.executable} -m pip install selenium\n",
    "# !{sys.executable} -m pip install webdriver-manager\n",
    "\n",
    "import time \n",
    "from selenium import webdriver\n",
    "from selenium.webdriver.support import ui\n",
    "from webdriver_manager.chrome import ChromeDriverManager\n",
    "import random\n",
    "from selenium.webdriver.common.by import By\n",
    "\n",
    "# Randomly generate time length to simulate human operation \n",
    "def random_time():\n",
    "    random_time = random.randrange(5,20)\n",
    "    return(random_time)\n",
    "\n",
    "def get_entries_on_file(driver, log_file='links.txt', bib_file='refs.bib'):\n",
    "    with open(log_file, 'a') as f: # for logging the current page\n",
    "        f.write(driver.current_url + '\\n')\n",
    "\n",
    "    for j in range(10):\n",
    "        print(\"The current record number is: %d\" % j)\n",
    "        \n",
    "        # Click the cite buttons of each entry\n",
    "        one_record = driver.find_elements(By.CLASS_NAME, 'gs_or_cit')[j]\n",
    "        webdriver.ActionChains(driver).move_to_element(one_record).perform()\n",
    "        webdriver.ActionChains(driver).click(one_record).perform()\n",
    "        time.sleep(random_time())\n",
    "\n",
    "        # Click to open the citation as the format of BibTeX for each entry\n",
    "        bibtex = driver.find_element(By.PARTIAL_LINK_TEXT,'BibTeX')\n",
    "        webdriver.ActionChains(driver).move_to_element(bibtex).perform()\n",
    "        webdriver.ActionChains(driver).click(bibtex).perform()\n",
    "        time.sleep(random_time())\n",
    "        \n",
    "        # Copy and save the BibTeX entry\n",
    "        body = driver.find_element(By.TAG_NAME, 'body')\n",
    "        text = body.text \n",
    "        with open(bib_file, 'a') as f: # keep appending the bibtex entries to file\n",
    "            f.write(text + '\\n\\n')\n",
    "            \n",
    "        # Go back to the searching list\n",
    "        driver.back()\n",
    "        time.sleep(1)\n",
    "        time.sleep(random_time())\n",
    "        time.sleep(random_time())\n",
    "        time.sleep(random_time())\n",
    "        \n",
    "        # Close citation float dialog\n",
    "        close_cti = driver.find_element(By.ID, 'gs_cit-x')\n",
    "        webdriver.ActionChains(driver).move_to_element(close_cti).perform()\n",
    "        webdriver.ActionChains(driver).click(close_cti).perform()\n",
    "        time.sleep(random_time())\n",
    "\n"
   ]
  },
  {
   "cell_type": "code",
   "execution_count": null,
   "metadata": {
    "scrolled": false
   },
   "outputs": [],
   "source": [
    "if __name__ == '__main__':\n",
    "#     initialize the browser -- requires chromedriver\n",
    "#     If the path is unknow, run the code of row 6 instead of 7. Otherwise, update the path in row 7, \n",
    "#     and run the script without the code of row 6.\n",
    "\n",
    "#     driver = webdriver.Chrome(ChromeDriverManager().install())\n",
    "    driver = webdriver.Chrome(\"/Users/xxx/.wdm/drivers/chromedriver/mac64/95.0.4638.17/chromedriver\")\n",
    "\n",
    "# Open google scholar and put your searching keywords and filters, \n",
    "# then use the url of the searching results as the \"init_link\" and \"link\"\n",
    "    init_link = 'https://scholar.google.com/scholar?start=0&q=cancer+deep+learning+whole+slide+image&hl=en&as_sdt=0,5&as_ylo=2016&as_yhi=2021&as_vis=1'\n",
    "    driver.get(init_link);\n",
    "\n",
    "#     Specify the page range with the numbers in the bracket\n",
    "    for i in range(0, 20): \n",
    "        print(\"The current page number is: %d\" % i)\n",
    "        time.sleep(random_time())\n",
    "        link = 'https://scholar.google.com/scholar?start={}&q \\\n",
    "        =cancer+deep+learning+whole+slide+image&hl=en&as_sdt=0,5&as_ylo=2016&as_yhi=2021&as_vis=1'.format(10*i)\n",
    "        driver.get(link);\n",
    "        time.sleep(40)\n",
    "        get_entries_on_file(driver)\n",
    "        time.sleep(random_time())"
   ]
  },
  {
   "cell_type": "code",
   "execution_count": null,
   "metadata": {},
   "outputs": [],
   "source": []
  },
  {
   "cell_type": "code",
   "execution_count": null,
   "metadata": {},
   "outputs": [],
   "source": []
  },
  {
   "cell_type": "code",
   "execution_count": null,
   "metadata": {},
   "outputs": [],
   "source": []
  }
 ],
 "metadata": {
  "kernelspec": {
   "display_name": "Python 3",
   "language": "python",
   "name": "python3"
  },
  "language_info": {
   "codemirror_mode": {
    "name": "ipython",
    "version": 3
   },
   "file_extension": ".py",
   "mimetype": "text/x-python",
   "name": "python",
   "nbconvert_exporter": "python",
   "pygments_lexer": "ipython3",
   "version": "3.8.5"
  }
 },
 "nbformat": 4,
 "nbformat_minor": 4
}
